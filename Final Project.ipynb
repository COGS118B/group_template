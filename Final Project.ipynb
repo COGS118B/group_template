{
 "cells": [
  {
   "cell_type": "markdown",
   "id": "6ac005d5",
   "metadata": {},
   "source": [
    "# Superbowl Prediction"
   ]
  },
  {
   "cell_type": "markdown",
   "id": "cf8272f4",
   "metadata": {},
   "source": [
    "# Group Members"
   ]
  },
  {
   "cell_type": "markdown",
   "id": "1b9b6101",
   "metadata": {},
   "source": [
    "- Divinity Gines\n",
    "- Mia Le\n",
    "- Nikita Cardozo\n",
    "- Boden Haber"
   ]
  },
  {
   "cell_type": "markdown",
   "id": "3da355fc",
   "metadata": {},
   "source": [
    "# Abstract"
   ]
  },
  {
   "cell_type": "markdown",
   "id": "8fe6225c",
   "metadata": {},
   "source": [
    "The goal for this project is to gain a better understanding of what factors influences who the next super bowl winner is going to be, based on game performance and teams statistics. The first dataset is the NFL game statistics from games in the 2002-2023 seasons. These are the logged stats of every game in the NFL per season and postseason. It includes the number of wins, losses, yards, and more. The second dataset is the super bowl teams. This includes the winner, loser, points, and location. We will be using the game stats and the winners of the super bowls to first create a clustering model to visualize similarities amongst the teams. Then we will create a predictive model in order to predict who will be a future winner of the superbowl, based off their season stats. This means that we would need to break our dataset into a training set, validation set, and test set. Performance/success would be measured based on if it is accurately able to predict the superbowl winners of previous years. The clustering model will be measured by silhouette score, to measure inter cluster similarity.\n"
   ]
  },
  {
   "cell_type": "markdown",
   "id": "7d9b2b49",
   "metadata": {},
   "source": [
    "# Background"
   ]
  },
  {
   "cell_type": "markdown",
   "id": "3647c70d",
   "metadata": {},
   "source": [
    "With all of the different ways to predict a super bowl winner out on the internet, whether that be through puppies prediciting the winner or conspiracies such as whoever is the bottom color of the super bowl logo, we wanted to see if there was a way to use machine learning to accurately predict who the winner of the super bowl is, and in turn the score of the super bowl game. There are a variety of different machine learning algorithms that can be used to accurately predict sports. We found that there has been some research on using machine learning to predict sports outcomes. We start to look at the different machine learning algorithms and which would best be used for sports. There has been better accuracy  with neural networks in regards to sports predictions and these are not dependent on the number of seasons that are included in the data <a name =\"horvat\"></a>[<sup>[1]</sup>](#horvatnote). Each sport also has a specific algorithm that works best for the sport, where football was best predicted using CART or ANN trained with BP <a name=\"bunker\"></a>[<sup>[2]</sup>](#bunkernote). This led to seeing that for football,  classification models predict game outcomes better than regression models <a name=\"dursun\"></a>[<sup>[3]</sup>](#dursunnote). A lot of the research done on sports predictions focus on the winner of the game. We wanted to go more indepth and see if we can find a way to more accurately predict the winner by also predicting the score of the game and go beyond that to find if we can predict who ends up at the super bowl based off their stats.\n"
   ]
  },
  {
   "cell_type": "markdown",
   "id": "1136794e",
   "metadata": {},
   "source": [
    "# Problem Statement"
   ]
  },
  {
   "cell_type": "markdown",
   "id": "71c5dd9f",
   "metadata": {},
   "source": [
    "Our problem is figuring out what stats are a leading predictor in becoming the next Super Bowl winner. We are trying to develop a model to take in historical NFL data, including season and game stats, Super Bowl game stats, and other factors like home advantage. We will accurately estimate the best stats for each team. By using historical data and ML techniques for predictive analysis, we will be able to evaluate what the leading stats in football championships are. The problem will also utilize a vast array of datasets to determine what could be used to accurately predict the Super Bowl winner.\n"
   ]
  },
  {
   "cell_type": "markdown",
   "id": "a5b0569a",
   "metadata": {},
   "source": [
    "# Data"
   ]
  },
  {
   "cell_type": "markdown",
   "id": "79b5d215",
   "metadata": {},
   "source": [
    "To answer our problem statement we wanted to use data on the history of past Super Bowl wins, how each team does in the regular season and playoffs, points scored during the season, fumbles and the volume of points against teams and how it affects their chance of winning. \n",
    "\n",
    "Dataset1: \n",
    "https://www.kaggle.com/datasets/timoboz/superbowl-history-1967-2020. \n",
    "This dataset contains data about Superbowl games from 1967 to 2020. Each row is each superbowl. It has 53 rows and 10 columns.The observation’s 10 columns have the following names: Date, Super Bowl Title, Winner, #Winner points, Loser, #loser points, MVP, Stadium, City, State. It shows all information about each superbowl represented in strings and numbers.\n",
    "We really just needed the values of who won the Superbowl for each season, so we ended up dropping most of the other columns. For it to be compatible for merging with our second dataset, we manually added the superbowl winners from 2021, 2022, and 2023, as well as cut all rows from before 2002. We also had to extract the year from the ‘date’ column and create a ‘season” column. We then merged this data with dataset2 on the ‘season’ column.\n",
    "\n",
    "Dataset2: https://www.kaggle.com/datasets/cviaxmiwnptr/nfl-team-stats-20022019-espn/data\n",
    "This dataset contains the data about every NFL game from every regular season game, playoff game, and superbowl game, from 2002 to 2023. All data is scraped from ESPN's Team Stats page for each game. It has 5929 rows and 55 columns. When we choose our features we dropped the less significant columns to make it 12 columns. Each row represents a game. The variables we chose as features are ['score_away', 'score_home', 'first_downs_away', 'first_downs_home', 'yards_home', 'yards_away', 'fumbles_away', 'fumbles_home', 'interceptions_away', 'interceptions_home',\"winner\"]. We did this to reduce the complexity, because as the number of dimensions (features) increases, the amount of data needed to generalize accurately grows exponentially. We also wanted to reduce noise and reducing the number of columns helps in focusing on the most informative and relevant features for clustering.We merged this data with a column from our superbowl winners data to add a column with the winner for every season that corresponds to every game within that given season. \n",
    "\n",
    "Dataset3: https://www.kaggle.com/datasets/ttalbitt/american-football-team-stats-1998-2019 Team-by-team dataset; row is team from a year and columns are season stats for the year. 63 columns with 669 unique values. Each row has the team with the year, followed by # of wins, # of losses, # PF, #yards, #plays, #fumbles, #1st downs. 'nWe will need which teams has highest number of wins and for those with losses by how much.\n"
   ]
  },
  {
   "cell_type": "markdown",
   "id": "2fc0029f",
   "metadata": {},
   "source": [
    "# Proposed Solution"
   ]
  },
  {
   "cell_type": "markdown",
   "id": "ff4b8133",
   "metadata": {},
   "source": [
    "Our goal for this project is to aggregate all of the data from the past NFL games as well as superbowl winners to help predict what stats are a leading predictor in becoming the next Super Bowl winner. We used random forest classification to select the most important features from our dataset. From here we extracted \n",
    "\n",
    "\n",
    "\n",
    "We plan on using dimensionality reduction to help eliminate less important features and filter out any of the noise in the data. By reducing the dimensionality it will also help us when we use clustering algorithms by making the computation more efficient for us. Once we have done dimensionality reduction we plan on clustering the data by grouping teams based on similarities in a variety of performance metrics as well as characteristics. We are hoping to identify certain patterns that could indicate potential for Super Bowl success. Some dimensions that the data may be clustered by is offensive and defensive strategies, key player statistics, past playoff performance, and more.After doing our clustering we want to look at the identifying characteristics and performance metrics of each cluster to see how the clusters differentiate themselves. We are going to be looking at the key features that Super Bowl winners have within specific clusters. Then we will do  testing that  will use internal validation such as a silhouette score to assess the quality of the clusters formed, allowing us to see how similar a data point is in their cluster. We can then use those insights that we have gained from the clustering to develop predictive models to see the likelihood of which team will win the Super Bowl.  "
   ]
  },
  {
   "cell_type": "markdown",
   "id": "bf00f4a7",
   "metadata": {},
   "source": [
    "# Evaluation Metric"
   ]
  },
  {
   "cell_type": "markdown",
   "id": "7cc8495f",
   "metadata": {},
   "source": [
    "For our evaluation metrics, we knew we could use a few measurements to evaluate both the benchmark model and the solution model. For our classification model, where we are making our predictions for teams that will win the superbowl, we can use accuracy as the most straightforward evaluation metric, and calculate the proportion of correct predictions (both true positives and true negatives) out of all predictions. We can also use precision and recall to  ​​measure the proportion of positive identifications that were actually correct, and the proportion of actual positives that were identified correctly. These measurements will be particularly useful because incorrectly predicting a team as a Super Bowl winner when it's not is less desirable than missing a potential winner. For our unsupervised analysis, we’re thinking about using clustering for team profiling. Using K-means or hierarchical clustering to group teams into clusters based on their performance metrics. These clusters can help identify patterns of team performance that correlate with Super Bowl success. For example, teams within a cluster characterized by a strong defense and decent offensive scores might have a higher likelihood of winning the Super Bowl. For this model, we can use the silhouette score as our evaluation metric. This metric measures how similar an object is to its own cluster compared to other clusters. This score ranges from -1 to 1, where a high value indicates that the object is well matched to its own cluster and poorly matched to neighboring clusters. In the context of team profiling, a high silhouette score would indicate good clustering and that teams within a cluster are similar to one another and distinct from teams in other clusters.\n"
   ]
  },
  {
   "cell_type": "markdown",
   "id": "c7061c4a",
   "metadata": {},
   "source": [
    "# Data Cleaning"
   ]
  },
  {
   "cell_type": "code",
   "execution_count": 1,
   "id": "0697788f",
   "metadata": {},
   "outputs": [],
   "source": [
    "import pandas as pd\n",
    "import numpy as np\n",
    "import statsmodels.api as sm\n",
    "import statsmodels.api as sm"
   ]
  },
  {
   "cell_type": "code",
   "execution_count": 2,
   "id": "2b86cee2",
   "metadata": {},
   "outputs": [],
   "source": [
    "df_teamstats = pd.read_csv(\"data/AmericanFootball98.csv\")\n",
    "df_sb = pd.read_csv(\"data/superbowl.csv\")"
   ]
  },
  {
   "cell_type": "code",
   "execution_count": 3,
   "id": "c69659b6",
   "metadata": {},
   "outputs": [],
   "source": [
    "sb_dict = {\n",
    "    \"New England Patriots\":1,\n",
    "    \"Miami Dolphins\":2,\n",
    "    \"Buffalo Bills\":3,\n",
    "    \"New York Jets\":4,\n",
    "    \"Cincinnati Bengals\":5,\n",
    "    \"Pittsburgh Steelers\":6,\n",
    "    \"Baltimore Ravens\":7,\n",
    "    \"Cleveland Browns\": 8, #team has not been to the SB yet\n",
    "    \"Baltimore Colts\":9,\n",
    "    \"Indianapolis Colts\":10, #2nd Colts Team\n",
    "    \"Jacksonville Jaguars\":11, #team has not been to the SB yet\n",
    "    \"Tennessee Titans\":12, \n",
    "    \"Houston Texans\":13, #team has not been to the SB yet\n",
    "    \"Denver Broncos\":14,\n",
    "    \"Kansas City Chiefs\":15,\n",
    "    \"San Diego Chargers\":16, #omitted LA Chargers, no SB appearance\n",
    "    \"Oakland Raiders\":17, #omitted LV Raiders, no SB appearance\n",
    "    \"Los Angeles Raiders\":18, #2nd Raiders Team\n",
    "    \"New York Giants\":19,\n",
    "    \"Washington Redskins\":20, #omitted Commanders, no SB appearance\n",
    "    \"Dallas Cowboys\":21,\n",
    "    \"Philadelphia Eagles\":22,\n",
    "    \"Chicago Bears\":23,\n",
    "    \"Minnesota Vikings\":24,\n",
    "    \"Detroit Lions\":\"Lions\", #team has not been to SB yet\n",
    "    \"Green Bay Packers\":25,\n",
    "    \"Tampa Bay Buccaneers\":26,\n",
    "    \"Carolina Panthers\":27,\n",
    "    \"Atlanta Falcons\":28,\n",
    "    \"New Orleans Saints\":29,\n",
    "    \"Seattle Seahawks\":30,\n",
    "    \"St. Louis Rams\":31,\n",
    "    \"Los Angeles Rams\":32, #2nd Rams Team\n",
    "    \"Arizona Cardinals\":33,\n",
    "    \"San Francisco 49ers\":34\n",
    "}\n",
    "\n",
    "team_dict = {\n",
    "    \"nwe\": \"Patriots\",\n",
    "    \"mia\":\"Dolphins\",\n",
    "    \"buf\":\"Bills\",\n",
    "    \"nyj\":\"Jets\",\n",
    "    \"cin\":\"Bengals\",\n",
    "    \"pit\":\"Steelers\",\n",
    "    \"rav\":\"Ravens\",\n",
    "    \"cle\":\"Browns\",\n",
    "    \"clt\":\"Colts\",\n",
    "    \"jax\":\"Jaguars\",\n",
    "    \"oti\":\"Titans\",\n",
    "    \"htx\":\"Texans\",\n",
    "    \"den\":\"Broncos\",\n",
    "    \"kan\":\"Chiefs\",\n",
    "    \"sdg\":\"Chargers\",\n",
    "    \"rai\":\"Raiders\",\n",
    "    \"nyg\":\"Giants\",\n",
    "    \"was\":\"Redskins\",\n",
    "    \"dal\":\"Cowboys\",\n",
    "    \"phi\":\"Eagles\",\n",
    "    \"chi\":\"Bears\",\n",
    "    \"min\":\"Vikings\",\n",
    "    \"det\":\"Lions\",\n",
    "    \"gnb\":\"Packers\",\n",
    "    \"tam\":\"Buccaneers\",\n",
    "    \"car\":\"Panthers\",\n",
    "    \"atl\":\"Falcons\",\n",
    "    \"nor\":\"Saints\",\n",
    "    \"sea\":\"Seahawks\",\n",
    "    \"ram\":\"Rams\",\n",
    "    \"crd\":\"Cardinals\",\n",
    "    \"sfo\":\"49ers\"\n",
    "}\n",
    "\n",
    "\n",
    "mascottocode = {\n",
    "    \"Patriots\": 1,\n",
    "    \"Dolphins\": 2,\n",
    "    \"Bills\":3,\n",
    "    \"Jets\":4,\n",
    "    \"Bengals\":5,\n",
    "    \"Steelers\":6,\n",
    "    \"Ravens\":7,\n",
    "    \"Browns\":8,\n",
    "    \"Colts\":9,\n",
    "    \"Jaguars\":10,\n",
    "    \"Titans\":11,\n",
    "    \"Texans\":12,\n",
    "    \"Broncos\":13,\n",
    "    \"Chiefs\":14,\n",
    "    \"Chargers\":15,\n",
    "    \"Raiders\":16,\n",
    "    \"Giants\":17,\n",
    "    \"Redskins\":18,\n",
    "    \"Cowboys\":19,\n",
    "    \"Eagles\":20,\n",
    "    \"Bears\":21,\n",
    "    \"Vikings\":22,\n",
    "    \"Lions\":23,\n",
    "    \"Packers\":24,\n",
    "    \"Buccaneers\":25,\n",
    "    \"Panthers\":26,\n",
    "    \"Falcons\":27,\n",
    "    \"Saints\":28,\n",
    "    \"Seahawks\":29,\n",
    "    \"Rams\":30,\n",
    "    \"Cardinals\":31,\n",
    "    \"49ers\":32\n",
    "}\n",
    "\n",
    "codetomascot = {\n",
    "    1:\"Patriots\",\n",
    "    2:\"Dolphins\",\n",
    "    3:\"Bills\",\n",
    "    4:\"Jets\",\n",
    "    5:\"Bengals\",\n",
    "    6:\"Steelers\",\n",
    "    7:\"Ravens\",\n",
    "    8:\"Browns\",\n",
    "    9:\"Colts\",\n",
    "    10:\"Jaguars\",\n",
    "    11:\"Titans\",\n",
    "    12:\"Texans\",\n",
    "    13:\"Broncos\",\n",
    "    14:\"Chiefs\",\n",
    "    15:\"Chargers\",\n",
    "    16:\"Raiders\",\n",
    "    17:\"Giants\",\n",
    "    18:\"Redskins\",\n",
    "    19:\"Cowboys\",\n",
    "    20:\"Eagles\",\n",
    "    21:\"Bears\",\n",
    "    22:\"Vikings\",\n",
    "    23:\"Lions\",\n",
    "    24:\"Packers\",\n",
    "    25:\"Buccaneers\",\n",
    "    26:\"Panthers\",\n",
    "    27:\"Falcons\",\n",
    "    28:\"Saints\",\n",
    "    29:\"Seahawks\",\n",
    "    30:\"Rams\",\n",
    "    31:\"Cardinals\",\n",
    "    32:\"49ers\"\n",
    "}"
   ]
  },
  {
   "cell_type": "code",
   "execution_count": 4,
   "id": "db5f158e",
   "metadata": {
    "scrolled": true
   },
   "outputs": [
    {
     "name": "stderr",
     "output_type": "stream",
     "text": [
      "C:\\Users\\divin\\AppData\\Local\\Temp\\ipykernel_19372\\4015215773.py:11: SettingWithCopyWarning: \n",
      "A value is trying to be set on a copy of a slice from a DataFrame.\n",
      "Try using .loc[row_indexer,col_indexer] = value instead\n",
      "\n",
      "See the caveats in the documentation: https://pandas.pydata.org/pandas-docs/stable/user_guide/indexing.html#returning-a-view-versus-a-copy\n",
      "  df_season_winner['Season Year'] = pd.to_datetime(df_season_winner['Date']).dt.year\n"
     ]
    },
    {
     "data": {
      "text/html": [
       "<div>\n",
       "<style scoped>\n",
       "    .dataframe tbody tr th:only-of-type {\n",
       "        vertical-align: middle;\n",
       "    }\n",
       "\n",
       "    .dataframe tbody tr th {\n",
       "        vertical-align: top;\n",
       "    }\n",
       "\n",
       "    .dataframe thead th {\n",
       "        text-align: right;\n",
       "    }\n",
       "</style>\n",
       "<table border=\"1\" class=\"dataframe\">\n",
       "  <thead>\n",
       "    <tr style=\"text-align: right;\">\n",
       "      <th></th>\n",
       "      <th>season</th>\n",
       "      <th>week</th>\n",
       "      <th>date</th>\n",
       "      <th>away</th>\n",
       "      <th>home</th>\n",
       "      <th>score_away</th>\n",
       "      <th>score_home</th>\n",
       "      <th>first_downs_away</th>\n",
       "      <th>first_downs_home</th>\n",
       "      <th>third_down_comp_away</th>\n",
       "      <th>...</th>\n",
       "      <th>fumbles_away</th>\n",
       "      <th>fumbles_home</th>\n",
       "      <th>interceptions_away</th>\n",
       "      <th>interceptions_home</th>\n",
       "      <th>def_st_td_away</th>\n",
       "      <th>def_st_td_home</th>\n",
       "      <th>possession_away</th>\n",
       "      <th>possession_home</th>\n",
       "      <th>winner</th>\n",
       "      <th>sb_winner</th>\n",
       "    </tr>\n",
       "  </thead>\n",
       "  <tbody>\n",
       "    <tr>\n",
       "      <th>0</th>\n",
       "      <td>2002</td>\n",
       "      <td>1</td>\n",
       "      <td>2002-09-05</td>\n",
       "      <td>49ers</td>\n",
       "      <td>Giants</td>\n",
       "      <td>16</td>\n",
       "      <td>13</td>\n",
       "      <td>13</td>\n",
       "      <td>21</td>\n",
       "      <td>4</td>\n",
       "      <td>...</td>\n",
       "      <td>0</td>\n",
       "      <td>0</td>\n",
       "      <td>1</td>\n",
       "      <td>3</td>\n",
       "      <td>0</td>\n",
       "      <td>0</td>\n",
       "      <td>27:32</td>\n",
       "      <td>32:28</td>\n",
       "      <td>32.0</td>\n",
       "      <td>1</td>\n",
       "    </tr>\n",
       "    <tr>\n",
       "      <th>1</th>\n",
       "      <td>2002</td>\n",
       "      <td>1</td>\n",
       "      <td>2002-09-08</td>\n",
       "      <td>Jets</td>\n",
       "      <td>Bills</td>\n",
       "      <td>37</td>\n",
       "      <td>31</td>\n",
       "      <td>18</td>\n",
       "      <td>26</td>\n",
       "      <td>2</td>\n",
       "      <td>...</td>\n",
       "      <td>1</td>\n",
       "      <td>1</td>\n",
       "      <td>0</td>\n",
       "      <td>2</td>\n",
       "      <td>2</td>\n",
       "      <td>0</td>\n",
       "      <td>21:06</td>\n",
       "      <td>39:08</td>\n",
       "      <td>4.0</td>\n",
       "      <td>1</td>\n",
       "    </tr>\n",
       "    <tr>\n",
       "      <th>2</th>\n",
       "      <td>2002</td>\n",
       "      <td>1</td>\n",
       "      <td>2002-09-08</td>\n",
       "      <td>Vikings</td>\n",
       "      <td>Bears</td>\n",
       "      <td>23</td>\n",
       "      <td>27</td>\n",
       "      <td>19</td>\n",
       "      <td>20</td>\n",
       "      <td>5</td>\n",
       "      <td>...</td>\n",
       "      <td>1</td>\n",
       "      <td>1</td>\n",
       "      <td>2</td>\n",
       "      <td>1</td>\n",
       "      <td>0</td>\n",
       "      <td>0</td>\n",
       "      <td>31:31</td>\n",
       "      <td>28:29</td>\n",
       "      <td>21.0</td>\n",
       "      <td>1</td>\n",
       "    </tr>\n",
       "    <tr>\n",
       "      <th>3</th>\n",
       "      <td>2002</td>\n",
       "      <td>1</td>\n",
       "      <td>2002-09-08</td>\n",
       "      <td>Chargers</td>\n",
       "      <td>Bengals</td>\n",
       "      <td>34</td>\n",
       "      <td>6</td>\n",
       "      <td>27</td>\n",
       "      <td>13</td>\n",
       "      <td>6</td>\n",
       "      <td>...</td>\n",
       "      <td>0</td>\n",
       "      <td>0</td>\n",
       "      <td>0</td>\n",
       "      <td>1</td>\n",
       "      <td>0</td>\n",
       "      <td>0</td>\n",
       "      <td>37:48</td>\n",
       "      <td>22:12</td>\n",
       "      <td>15.0</td>\n",
       "      <td>1</td>\n",
       "    </tr>\n",
       "    <tr>\n",
       "      <th>4</th>\n",
       "      <td>2002</td>\n",
       "      <td>1</td>\n",
       "      <td>2002-09-08</td>\n",
       "      <td>Chiefs</td>\n",
       "      <td>Browns</td>\n",
       "      <td>40</td>\n",
       "      <td>39</td>\n",
       "      <td>24</td>\n",
       "      <td>24</td>\n",
       "      <td>5</td>\n",
       "      <td>...</td>\n",
       "      <td>0</td>\n",
       "      <td>1</td>\n",
       "      <td>1</td>\n",
       "      <td>0</td>\n",
       "      <td>0</td>\n",
       "      <td>0</td>\n",
       "      <td>30:16</td>\n",
       "      <td>29:44</td>\n",
       "      <td>14.0</td>\n",
       "      <td>1</td>\n",
       "    </tr>\n",
       "    <tr>\n",
       "      <th>...</th>\n",
       "      <td>...</td>\n",
       "      <td>...</td>\n",
       "      <td>...</td>\n",
       "      <td>...</td>\n",
       "      <td>...</td>\n",
       "      <td>...</td>\n",
       "      <td>...</td>\n",
       "      <td>...</td>\n",
       "      <td>...</td>\n",
       "      <td>...</td>\n",
       "      <td>...</td>\n",
       "      <td>...</td>\n",
       "      <td>...</td>\n",
       "      <td>...</td>\n",
       "      <td>...</td>\n",
       "      <td>...</td>\n",
       "      <td>...</td>\n",
       "      <td>...</td>\n",
       "      <td>...</td>\n",
       "      <td>...</td>\n",
       "      <td>...</td>\n",
       "    </tr>\n",
       "    <tr>\n",
       "      <th>5767</th>\n",
       "      <td>2023</td>\n",
       "      <td>Division</td>\n",
       "      <td>2024-01-21</td>\n",
       "      <td>Buccaneers</td>\n",
       "      <td>Lions</td>\n",
       "      <td>23</td>\n",
       "      <td>31</td>\n",
       "      <td>23</td>\n",
       "      <td>26</td>\n",
       "      <td>4</td>\n",
       "      <td>...</td>\n",
       "      <td>0</td>\n",
       "      <td>0</td>\n",
       "      <td>2</td>\n",
       "      <td>0</td>\n",
       "      <td>0</td>\n",
       "      <td>0</td>\n",
       "      <td>28:00</td>\n",
       "      <td>32:00</td>\n",
       "      <td>23.0</td>\n",
       "      <td>15</td>\n",
       "    </tr>\n",
       "    <tr>\n",
       "      <th>5768</th>\n",
       "      <td>2023</td>\n",
       "      <td>Division</td>\n",
       "      <td>2024-01-21</td>\n",
       "      <td>Chiefs</td>\n",
       "      <td>Bills</td>\n",
       "      <td>27</td>\n",
       "      <td>24</td>\n",
       "      <td>21</td>\n",
       "      <td>27</td>\n",
       "      <td>1</td>\n",
       "      <td>...</td>\n",
       "      <td>1</td>\n",
       "      <td>0</td>\n",
       "      <td>0</td>\n",
       "      <td>0</td>\n",
       "      <td>0</td>\n",
       "      <td>0</td>\n",
       "      <td>22:57</td>\n",
       "      <td>37:03</td>\n",
       "      <td>14.0</td>\n",
       "      <td>15</td>\n",
       "    </tr>\n",
       "    <tr>\n",
       "      <th>5769</th>\n",
       "      <td>2023</td>\n",
       "      <td>Conference</td>\n",
       "      <td>2024-01-28</td>\n",
       "      <td>Chiefs</td>\n",
       "      <td>Ravens</td>\n",
       "      <td>17</td>\n",
       "      <td>10</td>\n",
       "      <td>22</td>\n",
       "      <td>16</td>\n",
       "      <td>8</td>\n",
       "      <td>...</td>\n",
       "      <td>0</td>\n",
       "      <td>2</td>\n",
       "      <td>0</td>\n",
       "      <td>1</td>\n",
       "      <td>0</td>\n",
       "      <td>0</td>\n",
       "      <td>37:30</td>\n",
       "      <td>22:30</td>\n",
       "      <td>14.0</td>\n",
       "      <td>15</td>\n",
       "    </tr>\n",
       "    <tr>\n",
       "      <th>5770</th>\n",
       "      <td>2023</td>\n",
       "      <td>Conference</td>\n",
       "      <td>2024-01-28</td>\n",
       "      <td>Lions</td>\n",
       "      <td>49ers</td>\n",
       "      <td>31</td>\n",
       "      <td>34</td>\n",
       "      <td>28</td>\n",
       "      <td>23</td>\n",
       "      <td>6</td>\n",
       "      <td>...</td>\n",
       "      <td>1</td>\n",
       "      <td>0</td>\n",
       "      <td>0</td>\n",
       "      <td>1</td>\n",
       "      <td>0</td>\n",
       "      <td>0</td>\n",
       "      <td>27:48</td>\n",
       "      <td>32:12</td>\n",
       "      <td>32.0</td>\n",
       "      <td>15</td>\n",
       "    </tr>\n",
       "    <tr>\n",
       "      <th>5771</th>\n",
       "      <td>2023</td>\n",
       "      <td>Superbowl</td>\n",
       "      <td>2024-02-11</td>\n",
       "      <td>49ers</td>\n",
       "      <td>Chiefs</td>\n",
       "      <td>22</td>\n",
       "      <td>25</td>\n",
       "      <td>23</td>\n",
       "      <td>24</td>\n",
       "      <td>3</td>\n",
       "      <td>...</td>\n",
       "      <td>2</td>\n",
       "      <td>1</td>\n",
       "      <td>0</td>\n",
       "      <td>1</td>\n",
       "      <td>0</td>\n",
       "      <td>0</td>\n",
       "      <td>38:31</td>\n",
       "      <td>36:26</td>\n",
       "      <td>14.0</td>\n",
       "      <td>15</td>\n",
       "    </tr>\n",
       "  </tbody>\n",
       "</table>\n",
       "<p>5772 rows × 55 columns</p>\n",
       "</div>"
      ],
      "text/plain": [
       "      season        week        date        away     home  score_away  \\\n",
       "0       2002           1  2002-09-05       49ers   Giants          16   \n",
       "1       2002           1  2002-09-08        Jets    Bills          37   \n",
       "2       2002           1  2002-09-08     Vikings    Bears          23   \n",
       "3       2002           1  2002-09-08    Chargers  Bengals          34   \n",
       "4       2002           1  2002-09-08      Chiefs   Browns          40   \n",
       "...      ...         ...         ...         ...      ...         ...   \n",
       "5767    2023    Division  2024-01-21  Buccaneers    Lions          23   \n",
       "5768    2023    Division  2024-01-21      Chiefs    Bills          27   \n",
       "5769    2023  Conference  2024-01-28      Chiefs   Ravens          17   \n",
       "5770    2023  Conference  2024-01-28       Lions    49ers          31   \n",
       "5771    2023   Superbowl  2024-02-11       49ers   Chiefs          22   \n",
       "\n",
       "      score_home  first_downs_away  first_downs_home  third_down_comp_away  \\\n",
       "0             13                13                21                     4   \n",
       "1             31                18                26                     2   \n",
       "2             27                19                20                     5   \n",
       "3              6                27                13                     6   \n",
       "4             39                24                24                     5   \n",
       "...          ...               ...               ...                   ...   \n",
       "5767          31                23                26                     4   \n",
       "5768          24                21                27                     1   \n",
       "5769          10                22                16                     8   \n",
       "5770          34                28                23                     6   \n",
       "5771          25                23                24                     3   \n",
       "\n",
       "      ...  fumbles_away  fumbles_home  interceptions_away  interceptions_home  \\\n",
       "0     ...             0             0                   1                   3   \n",
       "1     ...             1             1                   0                   2   \n",
       "2     ...             1             1                   2                   1   \n",
       "3     ...             0             0                   0                   1   \n",
       "4     ...             0             1                   1                   0   \n",
       "...   ...           ...           ...                 ...                 ...   \n",
       "5767  ...             0             0                   2                   0   \n",
       "5768  ...             1             0                   0                   0   \n",
       "5769  ...             0             2                   0                   1   \n",
       "5770  ...             1             0                   0                   1   \n",
       "5771  ...             2             1                   0                   1   \n",
       "\n",
       "      def_st_td_away  def_st_td_home  possession_away  possession_home  \\\n",
       "0                  0               0            27:32            32:28   \n",
       "1                  2               0            21:06            39:08   \n",
       "2                  0               0            31:31            28:29   \n",
       "3                  0               0            37:48            22:12   \n",
       "4                  0               0            30:16            29:44   \n",
       "...              ...             ...              ...              ...   \n",
       "5767               0               0            28:00            32:00   \n",
       "5768               0               0            22:57            37:03   \n",
       "5769               0               0            37:30            22:30   \n",
       "5770               0               0            27:48            32:12   \n",
       "5771               0               0            38:31            36:26   \n",
       "\n",
       "      winner  sb_winner  \n",
       "0       32.0          1  \n",
       "1        4.0          1  \n",
       "2       21.0          1  \n",
       "3       15.0          1  \n",
       "4       14.0          1  \n",
       "...      ...        ...  \n",
       "5767    23.0         15  \n",
       "5768    14.0         15  \n",
       "5769    14.0         15  \n",
       "5770    32.0         15  \n",
       "5771    14.0         15  \n",
       "\n",
       "[5772 rows x 55 columns]"
      ]
     },
     "execution_count": 4,
     "metadata": {},
     "output_type": "execute_result"
    }
   ],
   "source": [
    "data = pd.read_csv('data/nfl_team_stats_2002-2023.csv')\n",
    "\n",
    "data['winner'] = data.apply(lambda row: row['away'] if row['score_away'] > row['score_home'] else (row['home'] if row['score_away'] < row['score_home'] else 'Tie'), axis=1)\n",
    "\n",
    "data['winner'] = data['winner'].map(mascottocode)\n",
    "\n",
    "data = data.dropna()\n",
    "\n",
    "df_season_winner = df_sb[['Date', 'Winner']]\n",
    "\n",
    "df_season_winner['Season Year'] = pd.to_datetime(df_season_winner['Date']).dt.year\n",
    "\n",
    "df_season_winner = df_season_winner.drop(['Date'], axis=1)\n",
    "\n",
    "df_season_winner.rename(columns={'Season Year': 'Season'}, inplace=True)\n",
    "\n",
    "df_season_winner = df_season_winner[df_season_winner['Season'] > 2001]\n",
    "\n",
    "new_winners = pd.DataFrame({\n",
    "    'Winner': ['Kansas City Chiefs', 'Los Angeles Rams', 'Tampa Bay Buccaneers'], \n",
    "    'Season': [2023, 2022, 2021]\n",
    "})\n",
    "\n",
    "df_updated = pd.concat([new_winners, df_season_winner], ignore_index=True)\n",
    "\n",
    "df_updated.rename(columns={'Season': 'season'}, inplace=True)\n",
    "df_updated.rename(columns={'Winner': 'sb_winner'}, inplace=True)\n",
    "\n",
    "data= pd.merge(data, df_updated, on='season', how='left')\n",
    "\n",
    "data['sb_winner'] = data['sb_winner'].map(sb_dict)\n",
    "\n",
    "data"
   ]
  },
  {
   "cell_type": "markdown",
   "id": "d4e01380",
   "metadata": {},
   "source": [
    "# Results"
   ]
  },
  {
   "cell_type": "markdown",
   "id": "912039a1",
   "metadata": {},
   "source": [
    "# Elbow Method and Silhouette Score"
   ]
  },
  {
   "cell_type": "code",
   "execution_count": 5,
   "id": "5c526c30",
   "metadata": {},
   "outputs": [
    {
     "data": {
      "image/png": "[encoded data removed]",
      "text/plain": [
       "<Figure size 1000x500 with 1 Axes>"
      ]
     },
     "metadata": {},
     "output_type": "display_data"
    },
    {
     "name": "stderr",
     "output_type": "stream",
     "text": [
      "c:\\Users\\divin\\anaconda3\\Lib\\site-packages\\sklearn\\cluster\\_kmeans.py:1412: FutureWarning: The default value of `n_init` will change from 10 to 'auto' in 1.4. Set the value of `n_init` explicitly to suppress the warning\n",
      "  super()._check_params_vs_input(X, default_n_init=10)\n"
     ]
    },
    {
     "name": "stdout",
     "output_type": "stream",
     "text": [
      "For n_clusters = 2, silhouette score is 0.13496220389326907)\n"
     ]
    },
    {
     "name": "stderr",
     "output_type": "stream",
     "text": [
      "c:\\Users\\divin\\anaconda3\\Lib\\site-packages\\sklearn\\cluster\\_kmeans.py:1412: FutureWarning: The default value of `n_init` will change from 10 to 'auto' in 1.4. Set the value of `n_init` explicitly to suppress the warning\n",
      "  super()._check_params_vs_input(X, default_n_init=10)\n"
     ]
    },
    {
     "name": "stdout",
     "output_type": "stream",
     "text": [
      "For n_clusters = 3, silhouette score is 0.12528139970176713)\n"
     ]
    },
    {
     "name": "stderr",
     "output_type": "stream",
     "text": [
      "c:\\Users\\divin\\anaconda3\\Lib\\site-packages\\sklearn\\cluster\\_kmeans.py:1412: FutureWarning: The default value of `n_init` will change from 10 to 'auto' in 1.4. Set the value of `n_init` explicitly to suppress the warning\n",
      "  super()._check_params_vs_input(X, default_n_init=10)\n"
     ]
    },
    {
     "name": "stdout",
     "output_type": "stream",
     "text": [
      "For n_clusters = 4, silhouette score is 0.10041627545168341)\n"
     ]
    },
    {
     "name": "stderr",
     "output_type": "stream",
     "text": [
      "c:\\Users\\divin\\anaconda3\\Lib\\site-packages\\sklearn\\cluster\\_kmeans.py:1412: FutureWarning: The default value of `n_init` will change from 10 to 'auto' in 1.4. Set the value of `n_init` explicitly to suppress the warning\n",
      "  super()._check_params_vs_input(X, default_n_init=10)\n"
     ]
    },
    {
     "name": "stdout",
     "output_type": "stream",
     "text": [
      "For n_clusters = 5, silhouette score is 0.10243644912428575)\n"
     ]
    },
    {
     "name": "stderr",
     "output_type": "stream",
     "text": [
      "c:\\Users\\divin\\anaconda3\\Lib\\site-packages\\sklearn\\cluster\\_kmeans.py:1412: FutureWarning: The default value of `n_init` will change from 10 to 'auto' in 1.4. Set the value of `n_init` explicitly to suppress the warning\n",
      "  super()._check_params_vs_input(X, default_n_init=10)\n"
     ]
    },
    {
     "name": "stdout",
     "output_type": "stream",
     "text": [
      "For n_clusters = 6, silhouette score is 0.09615226235034527)\n"
     ]
    },
    {
     "name": "stderr",
     "output_type": "stream",
     "text": [
      "c:\\Users\\divin\\anaconda3\\Lib\\site-packages\\sklearn\\cluster\\_kmeans.py:1412: FutureWarning: The default value of `n_init` will change from 10 to 'auto' in 1.4. Set the value of `n_init` explicitly to suppress the warning\n",
      "  super()._check_params_vs_input(X, default_n_init=10)\n"
     ]
    },
    {
     "name": "stdout",
     "output_type": "stream",
     "text": [
      "For n_clusters = 7, silhouette score is 0.09791157293761035)\n"
     ]
    },
    {
     "name": "stderr",
     "output_type": "stream",
     "text": [
      "c:\\Users\\divin\\anaconda3\\Lib\\site-packages\\sklearn\\cluster\\_kmeans.py:1412: FutureWarning: The default value of `n_init` will change from 10 to 'auto' in 1.4. Set the value of `n_init` explicitly to suppress the warning\n",
      "  super()._check_params_vs_input(X, default_n_init=10)\n"
     ]
    },
    {
     "name": "stdout",
     "output_type": "stream",
     "text": [
      "For n_clusters = 8, silhouette score is 0.09848191442514852)\n"
     ]
    },
    {
     "name": "stderr",
     "output_type": "stream",
     "text": [
      "c:\\Users\\divin\\anaconda3\\Lib\\site-packages\\sklearn\\cluster\\_kmeans.py:1412: FutureWarning: The default value of `n_init` will change from 10 to 'auto' in 1.4. Set the value of `n_init` explicitly to suppress the warning\n",
      "  super()._check_params_vs_input(X, default_n_init=10)\n"
     ]
    },
    {
     "name": "stdout",
     "output_type": "stream",
     "text": [
      "For n_clusters = 9, silhouette score is 0.09063329624864214)\n"
     ]
    },
    {
     "name": "stderr",
     "output_type": "stream",
     "text": [
      "c:\\Users\\divin\\anaconda3\\Lib\\site-packages\\sklearn\\cluster\\_kmeans.py:1412: FutureWarning: The default value of `n_init` will change from 10 to 'auto' in 1.4. Set the value of `n_init` explicitly to suppress the warning\n",
      "  super()._check_params_vs_input(X, default_n_init=10)\n"
     ]
    },
    {
     "name": "stdout",
     "output_type": "stream",
     "text": [
      "For n_clusters = 10, silhouette score is 0.08273634654422952)\n"
     ]
    },
    {
     "data": {
      "image/png": "[encoded data removed]",
      "text/plain": [
       "<Figure size 1000x500 with 1 Axes>"
      ]
     },
     "metadata": {},
     "output_type": "display_data"
    }
   ],
   "source": [
    "import pandas as pd\n",
    "from sklearn.cluster import KMeans\n",
    "from sklearn.preprocessing import StandardScaler\n",
    "from sklearn.svm import SVC\n",
    "from sklearn.model_selection import train_test_split\n",
    "from sklearn.metrics import accuracy_score\n",
    "import matplotlib.pyplot as plt\n",
    "from sklearn.metrics import silhouette_score\n",
    "\n",
    "features = ['score_away', 'score_home', 'first_downs_away', 'first_downs_home', 'yards_home', 'yards_away', 'fumbles_away', 'fumbles_home', 'interceptions_away', 'interceptions_home','winner', 'third_down_comp_away', 'third_down_comp_home']  # Updated to include more features\n",
    "X = data[features] \n",
    "\n",
    "# normalize features\n",
    "scaler = StandardScaler()\n",
    "X_scaled = scaler.fit_transform(X)\n",
    "\n",
    "wcss = []\n",
    "for i in range(1, 11):  \n",
    "    kmeans = KMeans(n_clusters=i, init='k-means++', max_iter=300, n_init=10, random_state=0)\n",
    "    kmeans.fit(X_scaled)\n",
    "    wcss.append(kmeans.inertia_)\n",
    "    \n",
    "\n",
    "plt.figure(figsize=(10, 5))\n",
    "plt.plot(range(1, 11), wcss, marker='o', linestyle='--')\n",
    "plt.title('Elbow Method For Optimal Cluster Number')\n",
    "plt.xlabel('Number of clusters')\n",
    "plt.ylabel('WCSS')\n",
    "plt.show()\n",
    "\n",
    "\n",
    "silhouette_scores = [] \n",
    "for n_cluster in range(2, 11):\n",
    "    kmeans = KMeans(n_clusters=n_cluster).fit(X_scaled)\n",
    "    silhouette = silhouette_score(X_scaled, kmeans.labels_)\n",
    "    silhouette_scores.append(silhouette)\n",
    "    print(\"For n_clusters = {}, silhouette score is {})\".format(n_cluster, silhouette))\n",
    "    \n",
    "plt.figure(figsize=(10, 5))\n",
    "plt.plot(range(2, 11), silhouette_scores, marker='o', linestyle='--')\n",
    "plt.title('Silhouette Score For Optimal Cluster Number')\n",
    "plt.xlabel('Number of clusters')\n",
    "plt.ylabel('Silhouette Score')\n",
    "plt.show()\n"
   ]
  },
  {
   "cell_type": "markdown",
   "id": "118948da",
   "metadata": {},
   "source": [
    "K-Means Clustering and SVM: gives a list of teams that have been in the same cluster historically. This could be interpreted as saying, \"Teams that are similar to your hypothetical team in terms of the features provided have historically included these Super Bowl winners.\""
   ]
  },
  {
   "cell_type": "code",
   "execution_count": 6,
   "id": "41e7235b",
   "metadata": {},
   "outputs": [
    {
     "name": "stderr",
     "output_type": "stream",
     "text": [
      "c:\\Users\\divin\\anaconda3\\Lib\\site-packages\\sklearn\\cluster\\_kmeans.py:1412: FutureWarning: The default value of `n_init` will change from 10 to 'auto' in 1.4. Set the value of `n_init` explicitly to suppress the warning\n",
      "  super()._check_params_vs_input(X, default_n_init=10)\n"
     ]
    },
    {
     "name": "stdout",
     "output_type": "stream",
     "text": [
      "Accuracy: 0.9887445887445887\n",
      "Predicted Cluster for New Data Point: [3]\n",
      "Teams in Predicted Cluster: [11.0, 26.0, 13.0, 12.0, 1.0, 21.0, 8.0, 19.0, 28.0, 15.0, 27.0, 25.0, 23.0, 24.0, 6.0, 10.0, 17.0, 9.0, 30.0, 4.0, 7.0, 20.0, 29.0, 14.0, 3.0, 16.0, 2.0, 22.0, 5.0, 31.0, 32.0]\n"
     ]
    },
    {
     "name": "stderr",
     "output_type": "stream",
     "text": [
      "c:\\Users\\divin\\anaconda3\\Lib\\site-packages\\sklearn\\base.py:464: UserWarning: X does not have valid feature names, but StandardScaler was fitted with feature names\n",
      "  warnings.warn(\n"
     ]
    }
   ],
   "source": [
    "import pandas as pd\n",
    "from sklearn.cluster import KMeans\n",
    "from sklearn.preprocessing import StandardScaler\n",
    "from sklearn.svm import SVC\n",
    "from sklearn.model_selection import train_test_split\n",
    "from sklearn.metrics import accuracy_score\n",
    "from sklearn.linear_model import LogisticRegression\n",
    "from sklearn.ensemble import RandomForestClassifier\n",
    "\n",
    "features = ['score_away', 'score_home', 'first_downs_away', 'first_downs_home', 'yards_home', 'yards_away', 'fumbles_away', 'fumbles_home', 'interceptions_away', 'interceptions_home','winner', 'third_down_comp_away', 'third_down_comp_home']  # Updated to include more features\n",
    "X = data[features] \n",
    "\n",
    "# normalize features\n",
    "scaler = StandardScaler()\n",
    "X_scaled = scaler.fit_transform(X)\n",
    "\n",
    "# K-means clustering\n",
    "kmeans = KMeans(n_clusters=4)  \n",
    "kmeans.fit(X_scaled)\n",
    "clusters = kmeans.predict(X_scaled)\n",
    "\n",
    "X_with_clusters = np.column_stack((X_scaled, clusters))\n",
    "\n",
    "data['Cluster'] = clusters  \n",
    "y = data['Cluster']\n",
    "\n",
    "# split data\n",
    "X_train, X_test, y_train, y_test = train_test_split(X_scaled, y, test_size=0.2, random_state=42)\n",
    "\n",
    "# train SVM model\n",
    "svm_model = SVC(kernel='linear')\n",
    "svm_model.fit(X_train, y_train)\n",
    "\n",
    "# predict on test set\n",
    "y_pred = svm_model.predict(X_test)\n",
    "\n",
    "# evaluate model\n",
    "accuracy = accuracy_score(y_test, y_pred)\n",
    "print(\"Accuracy:\", accuracy)\n",
    "\n",
    "new_data_point = scaler.transform([[10, 9 , 8, 7, 6, 5, 4, 3, 2, 1, 2, 2, 1]])  \n",
    "predicted_cluster = svm_model.predict(new_data_point)\n",
    "print(\"Predicted Cluster for New Data Point:\", predicted_cluster)\n",
    "\n",
    "# predict if this hypothetical team would win the Super Bowl according to the SVM model\n",
    "teams_in_cluster = data[data['Cluster'] == predicted_cluster[0]]['winner'].unique().tolist()\n",
    "print(\"Teams in Predicted Cluster:\", teams_in_cluster)"
   ]
  },
  {
   "cell_type": "markdown",
   "id": "6786e7c7",
   "metadata": {},
   "source": [
    "# Hierarchical Clustering"
   ]
  },
  {
   "cell_type": "code",
   "execution_count": 7,
   "id": "8def5dae",
   "metadata": {},
   "outputs": [
    {
     "name": "stderr",
     "output_type": "stream",
     "text": [
      "c:\\Users\\divin\\anaconda3\\Lib\\site-packages\\sklearn\\cluster\\_agglomerative.py:1005: FutureWarning: Attribute `affinity` was deprecated in version 1.2 and will be removed in 1.4. Use `metric` instead\n",
      "  warnings.warn(\n"
     ]
    }
   ],
   "source": [
    "from sklearn.cluster import AgglomerativeClustering\n",
    "import numpy as np\n",
    "\n",
    "hierarchical_model = AgglomerativeClustering(n_clusters=7, affinity='euclidean', linkage='ward')\n",
    "hierarchical_clusters = hierarchical_model.fit_predict(X_scaled)\n",
    "\n",
    "data['Hierarchical_Cluster'] = hierarchical_clusters\n"
   ]
  },
  {
   "cell_type": "code",
   "execution_count": 8,
   "id": "a3500bc3",
   "metadata": {},
   "outputs": [],
   "source": [
    "from scipy.cluster.hierarchy import dendrogram, linkage\n",
    "import matplotlib.pyplot as plt\n",
    "\n",
    "Z = linkage(X_scaled, 'ward')\n",
    "\n",
    "plt.figure(figsize=(10, 7))\n",
    "dendrogram(Z)\n",
    "plt.title('Hierarchical Clustering Dendrogram')\n",
    "plt.xlabel('Sample index')\n",
    "plt.ylabel('Distance')\n",
    "plt.show()"
   ]
  },
  {
   "cell_type": "markdown",
   "id": "3a05944a",
   "metadata": {},
   "source": [
    "# PCA"
   ]
  },
  {
   "cell_type": "code",
   "execution_count": null,
   "id": "133c2e68",
   "metadata": {},
   "outputs": [],
   "source": [
    "from sklearn.decomposition import PCA\n",
    "\n",
    "pca = PCA(n_components=0.95)\n",
    "\n",
    "pca.fit(X_scaled)\n",
    "\n",
    "X_pca = pca.transform(X_scaled)"
   ]
  },
  {
   "cell_type": "code",
   "execution_count": null,
   "id": "8f219062",
   "metadata": {},
   "outputs": [],
   "source": [
    "import matplotlib.pyplot as plt\n",
    "\n",
    "plt.figure(figsize=(8, 6))\n",
    "plt.scatter(X_pca[:, 0], X_pca[:, 1])\n",
    "plt.xlabel('First principal component')\n",
    "plt.ylabel('Second principal component')\n",
    "plt.title('PCA - 2 Components')\n",
    "plt.show()"
   ]
  },
  {
   "cell_type": "markdown",
   "id": "8f83b379",
   "metadata": {},
   "source": [
    "# Linear Regression Model"
   ]
  },
  {
   "cell_type": "code",
   "execution_count": null,
   "id": "de57bedb",
   "metadata": {},
   "outputs": [],
   "source": [
    "# make a linear regression model to predict the home team score\n",
    "data['score_diff'] = data['score_home'] - data['score_away']\n",
    "model = sm.OLS(data['winner'], data.select_dtypes(['number']).drop(columns=['winner','score_diff','score_home','score_away']))\n",
    "results = model.fit()\n",
    "results.summary()"
   ]
  },
  {
   "cell_type": "markdown",
   "id": "aae639ff",
   "metadata": {},
   "source": [
    "# PCA For Visualization"
   ]
  },
  {
   "cell_type": "code",
   "execution_count": null,
   "id": "bc393eb7",
   "metadata": {},
   "outputs": [],
   "source": [
    "import pandas as pd\n",
    "import numpy as np\n",
    "import matplotlib.pyplot as plt\n",
    "\n",
    "from sklearn.cluster import KMeans\n",
    "from sklearn.preprocessing import StandardScaler\n",
    "from sklearn.svm import SVC\n",
    "from sklearn.model_selection import train_test_split\n",
    "from sklearn.metrics import accuracy_score\n",
    "\n",
    "## Cleaning the data\n",
    "\n",
    "#reading in the csv\n",
    "df_teamstats = pd.read_csv(\"data/AmericanFootball98.csv\")\n",
    "df_sb = pd.read_csv(\"data/superbowl.csv\")\n",
    "\n",
    "df_teamstats.drop(df_teamstats.columns[33:], axis=1, inplace=True)\n",
    "df_sb.drop(df_sb.columns[6:], axis=1, inplace=True)\n",
    "df_sb.drop(0, inplace=True)\n",
    "\n",
    "#changes date to year\n",
    "df_sb['Year'] = pd.to_datetime(df_sb['Date']).dt.year\n",
    "df_sb.drop(labels = 'Date', axis=1, inplace=True)\n",
    "\n",
    "#changes sb roman number to just int\n",
    "df_sb['SB'] = df_sb['SB'].str.replace(r'[a-zA-Z]', '', regex=True)\n",
    "df_sb['SB'] = df_sb['SB'].str.replace(r'\\(|\\)', '', regex=True)\n",
    "\n",
    "#moves year\n",
    "column_to_move = df_sb.pop(\"Year\")\n",
    "df_sb.insert(0, \"Year\", column_to_move)\n",
    "\n",
    "# extracting the team names and years from df_teamstats\n",
    "df_teamstats['Team'] = df_teamstats['team_code'].str.extract(r'([A-Za-z]{3})')\n",
    "df_teamstats['Year'] = df_teamstats['team_code'].str.extract(r'(\\d{4})')\n",
    "\n",
    "#reorder columns\n",
    "column_to_move = df_teamstats.pop(\"Year\")\n",
    "df_teamstats.insert(0, \"Year\", column_to_move)\n",
    "column_to_move = df_teamstats.pop(\"Team\")\n",
    "df_teamstats.insert(1, \"Team\", column_to_move)\n",
    "\n",
    "#year str to int\n",
    "df_teamstats['Year'] = df_teamstats['Year'].astype(int)\n",
    "\n",
    "#delete team_code\n",
    "df_teamstats = df_teamstats.drop('team_code', axis=1)\n",
    "\n",
    "#changes team names to mascots\n",
    "df_sb['Winner'] = df_sb['Winner'].replace(sb_dict)\n",
    "df_sb['Loser'] = df_sb['Loser'].replace(sb_dict)\n",
    "\n",
    "df_teamstats['Team'] = df_teamstats['Team'].replace(team_dict)\n",
    "\n",
    "# drop all rows from 2004 and older\n",
    "df_sb = df_sb[df_sb['Year'] > 2004]\n",
    "df_teamstats = df_teamstats[df_teamstats['Year'] > 2004]\n",
    "\n",
    "#merging df together\n",
    "df_merged = pd.merge(df_teamstats, df_sb, on='Year', how='left')\n",
    "\n",
    "#changing mascot to code number\n",
    "df_merged['Team'] = df_merged['Team'].replace(mascottocode)\n",
    "df_merged['Winner'] = df_merged['Winner'].replace(mascottocode)\n",
    "df_merged['Loser'] = df_merged['Loser'].replace(mascottocode)\n",
    "\n",
    "# converting time to float\n",
    "def convert_to_float(time_str):\n",
    "    minutes, seconds = map(int, time_str.split(':'))\n",
    "    return minutes + seconds / 60\n",
    "\n",
    "# apply conversion to entire column\n",
    "df_merged['avg time per drive'] = df_merged['avg time per drive'].apply(convert_to_float)\n",
    "df_merged['WinSB'] = df_merged.apply(lambda row: row['Team'] == row['Winner'], axis=1)\n",
    "features = df_merged[['wins', 'plays', 'TO', 'Fumbles Lost', 'completions', 'turnover percentage', 'avg time per drive']]\n",
    "\n",
    "df_sbPCA = df_merged\n",
    "\n",
    "# normalize features\n",
    "scaler = StandardScaler()\n",
    "features_scaled = scaler.fit_transform(features)\n",
    "\n",
    "# determining the optimal number of clusters using the elbow method\n",
    "ssd = []\n",
    "K = range(1, 15)  \n",
    "for k in K:\n",
    "    km = KMeans(n_clusters=k, random_state=42)\n",
    "    km = km.fit(features_scaled)\n",
    "    ssd.append(km.inertia_)\n",
    "\n",
    "plt.figure(figsize=(10, 6))\n",
    "plt.plot(K, ssd, 'bx-')\n",
    "plt.xlabel('Number of clusters')\n",
    "plt.ylabel('Sum of squared distances')\n",
    "plt.title('Elbow Method For Optimal k')\n",
    "plt.show()"
   ]
  },
  {
   "cell_type": "code",
   "execution_count": null,
   "id": "55486f20",
   "metadata": {
    "scrolled": true
   },
   "outputs": [],
   "source": [
    "# clusters from elbow method\n",
    "optimal_k = 4\n",
    "\n",
    "# kmeans clustering\n",
    "kmeans = KMeans(n_clusters=optimal_k, random_state=42)\n",
    "clusters = kmeans.fit_predict(features_scaled)\n",
    "\n",
    "df_teamstats['Cluster'] = clusters\n",
    "\n",
    "cluster_centers = kmeans.cluster_centers_\n",
    "\n",
    "cluster_distribution = df_teamstats['Cluster'].value_counts()\n",
    "print(cluster_distribution)"
   ]
  },
  {
   "cell_type": "code",
   "execution_count": null,
   "id": "4471f25e",
   "metadata": {},
   "outputs": [],
   "source": [
    "import seaborn as sns\n",
    "winner_column = 'Winner'\n",
    "\n",
    "# normalize features\n",
    "scaler = StandardScaler()\n",
    "features_scaled = scaler.fit_transform(features)\n",
    "\n",
    "# kmeans clustering\n",
    "optimal_k = 4  \n",
    "kmeans = KMeans(n_clusters=optimal_k, random_state=42)\n",
    "df_merged['Cluster'] = kmeans.fit_predict(features_scaled)\n",
    "\n",
    "x_feature = 'completions'\n",
    "y_feature = 'turnover percentage'"
   ]
  },
  {
   "cell_type": "code",
   "execution_count": null,
   "id": "df1372ad",
   "metadata": {},
   "outputs": [],
   "source": [
    "import matplotlib.pyplot as plt\n",
    "from sklearn.decomposition import PCA\n",
    "\n",
    "# PCA\n",
    "pca = PCA(n_components=7)\n",
    "X_pca = pca.fit_transform(X_scaled)\n",
    "\n",
    "\n",
    "# clusters from elbow method\n",
    "optimal_k = 4\n",
    "\n",
    "# kmeans clustering\n",
    "kmeans = KMeans(n_clusters=optimal_k, random_state=42)\n",
    "clusters = kmeans.fit_predict(features_scaled)\n",
    "\n",
    "df_teamstats['Cluster'] = clusters\n",
    "\n",
    "cluster_centers = kmeans.cluster_centers_\n",
    "\n",
    "cluster_distribution = df_teamstats['Cluster'].value_counts()\n",
    "\n",
    "\n",
    "\n",
    "winner_column = 'Winner'  \n",
    "\n",
    "# normalize features\n",
    "scaler = StandardScaler()\n",
    "features_scaled = scaler.fit_transform(features)\n",
    "\n",
    "# kmeans clustering\n",
    "optimal_k = 4 \n",
    "kmeans = KMeans(n_clusters=optimal_k, random_state=42)\n",
    "df_merged['Cluster'] = kmeans.fit_predict(features_scaled)\n",
    "\n",
    "x_feature = 'completions'\n",
    "y_feature = 'turnover percentage'\n",
    "\n",
    "X = features\n",
    "# normalize features \n",
    "scaler = StandardScaler()\n",
    "X_scaled = scaler.fit_transform(X)\n",
    "\n",
    "# kmeans clustering\n",
    "kmeans = KMeans(n_clusters=4)  \n",
    "kmeans.fit(X_scaled)\n",
    "clusters = kmeans.predict(X_scaled)\n",
    "\n",
    "# SVM\n",
    "df_merged['Cluster'] = clusters\n",
    "y = df_merged['Cluster']\n",
    "\n",
    "#split\n",
    "X_train, X_test, y_train, y_test = train_test_split(X_scaled, y, test_size=0.2, random_state=42)\n",
    "\n",
    "# train\n",
    "svm_model = SVC(kernel='linear')\n",
    "svm_model.fit(X_train, y_train)\n",
    "\n",
    "# predict\n",
    "y_pred = svm_model.predict(X_test)\n",
    "\n",
    "# evaluate\n",
    "accuracy = accuracy_score(y_test, y_pred)\n",
    "print(\"Accuracy:\", accuracy)\n",
    "\n",
    "new_data_point = scaler.transform([[5, 3, 1, 5, 6, 9, 1]])\n",
    "predicted_cluster = svm_model.predict(new_data_point)\n",
    "print(\"Predicted Cluster for New Data Point:\", predicted_cluster)\n",
    "\n",
    "teams_in_cluster = df_merged[df_merged['Cluster'] == predicted_cluster[0]]['Team'].tolist()\n",
    "print(\"Teams in Predicted Cluster:\", teams_in_cluster)"
   ]
  },
  {
   "cell_type": "code",
   "execution_count": null,
   "id": "30b6245d",
   "metadata": {},
   "outputs": [],
   "source": [
    "# PCA\n",
    "pca = PCA(n_components=2) \n",
    "X_pca = pca.fit_transform(X_scaled)\n",
    "\n",
    "df_merged['PCA1'] = X_pca[:, 0]\n",
    "df_merged['PCA2'] = X_pca[:, 1]\n",
    "\n",
    "# winners highlighted\n",
    "plt.figure(figsize=(10, 8))\n",
    "# plot all teams\n",
    "plt.scatter(df_merged['PCA1'], df_merged['PCA2'], c=df_merged['Cluster'], cmap='viridis', alpha=0.5)\n",
    "# sb winners in red\n",
    "winners = df_merged[df_merged['WinSB'] == 1]\n",
    "plt.scatter(winners['PCA1'], winners['PCA2'], c='red', edgecolor='k', alpha=0.7, s=100, label='Super Bowl Winner')\n",
    "plt.xlabel('Principal Component 1')\n",
    "plt.ylabel('Principal Component 2')\n",
    "plt.title('K-means Clustering with Super Bowl Winners Highlighted')\n",
    "plt.show()\n"
   ]
  },
  {
   "cell_type": "code",
   "execution_count": null,
   "id": "2a14df59",
   "metadata": {},
   "outputs": [],
   "source": [
    "from sklearn.ensemble import RandomForestClassifier\n",
    "import matplotlib.pyplot as plt\n",
    "import pandas as pd\n",
    "\n",
    "# random forest model\n",
    "rf = RandomForestClassifier(n_estimators=100, random_state=42)\n",
    "rf.fit(X, clusters)\n",
    "\n",
    "# feature importance scores\n",
    "feature_importances = rf.feature_importances_\n",
    "\n",
    "features_df = pd.DataFrame({'Feature': X.columns, 'Importance': feature_importances})\n",
    "\n",
    "features_df = features_df.sort_values(by='Importance', ascending=False).reset_index(drop=True)\n",
    "\n",
    "plt.figure(figsize=(10, 8))\n",
    "plt.barh(features_df['Feature'], features_df['Importance'])\n",
    "plt.xlabel('Feature Importance')\n",
    "plt.ylabel('Features')\n",
    "plt.title('Feature Importance Scores from Random Forest')\n",
    "plt.gca().invert_yaxis()  # Invert y-axis to have the most important feature on top\n",
    "plt.show()"
   ]
  },
  {
   "cell_type": "markdown",
   "id": "e33607a6",
   "metadata": {},
   "source": [
    "# Discussion"
   ]
  },
  {
   "cell_type": "markdown",
   "id": "7bff4e10",
   "metadata": {},
   "source": [
    "## Interpreting the result"
   ]
  },
  {
   "cell_type": "markdown",
   "id": "ef768c50",
   "metadata": {},
   "source": [
    "results discussion"
   ]
  },
  {
   "cell_type": "markdown",
   "id": "4d002706",
   "metadata": {},
   "source": [
    "## Limitations"
   ]
  },
  {
   "cell_type": "markdown",
   "id": "7c75cbd8",
   "metadata": {},
   "source": [
    "limits"
   ]
  },
  {
   "cell_type": "markdown",
   "id": "9f74dabb",
   "metadata": {},
   "source": [
    "## Ethics & Privacy"
   ]
  },
  {
   "cell_type": "markdown",
   "id": "e5c14b05",
   "metadata": {},
   "source": [
    "There aren’t any super obvious ethical concerns with our project, but as with every ML project the concern of model bias and fairness. If we want it to be considered fair then the model should avoid reinforcing biases present in the data, which could unfairly advantage or disadvantage certain teams based on factors unrelated to their performance. This is not a big concern for us because all of our data is performance related. However, there could be external factors influencing certain variables that are unknown to us. What is within our power is to continuously monitor the data and employ any bias mitigation techniques we have available.\n",
    "\tAlso, given the popularity of betting around sporting events like the Super Bowl, models predicting outcomes could be misused for gambling purposes, raising ethical concerns around fairness and the potential for addiction. Even though our model isn’t super accurate in its predictions, if the model was accurate, someone could argue that it gives sports betters an unfair advantage over betters that don’t use the model.\n"
   ]
  },
  {
   "cell_type": "markdown",
   "id": "9772c459",
   "metadata": {},
   "source": [
    "# Conclusion"
   ]
  },
  {
   "cell_type": "markdown",
   "id": "f09af0a6",
   "metadata": {},
   "source": [
    "ugrfgwuyrgggh"
   ]
  },
  {
   "cell_type": "markdown",
   "id": "2aed99eb",
   "metadata": {},
   "source": [
    "# Footnotes\n",
    "<a name = \"horvatnote\"></a>1.[^](#horvat): Horvat T, Job J. The use of machine learning in sport outcome prediction: A review. WIREs Data Mining Knowl Discov. 2020; 10:e1380. https://doi.org/10.1002/widm.1380  \n",
    "<a name = \"bunkernote\"></a>2.[^](#bunker): Bunker, R., & Susnjak, T. (2022, April). The Application of Machine Learning Techniques forPredicting Match Results in Team Sport: A Review. View of the application of machine learning techniques for predicting match results in Team Sport: A Review. Journal of Artificial Intelligence Research, Volume 73, Pages 1285-1322 https://www.jair.org/index.php/jair/article/view/13509/26786   \n",
    "<a name=\"dursunnote\"></a>3.[^](#dursun): Dursun Delen, Douglas Cogdell, Nihat Kasap,A comparative analysis of data mining methods in predicting NCAA bowl outcomes,International Journal of Forecasting,Volume 28, Issue 2,2012,Pages 543-552,ISSN 0169-2070,https://doi.org/10.1016/j.ijforecast.2011.05.002.(https://www.sciencedirect.com/science/article/pii/S0169207011000914)  "
   ]
  }
 ],
 "metadata": {
  "kernelspec": {
   "display_name": "Python 3 (ipykernel)",
   "language": "python",
   "name": "python3"
  },
  "language_info": {
   "codemirror_mode": {
    "name": "ipython",
    "version": 3
   },
   "file_extension": ".py",
   "mimetype": "text/x-python",
   "name": "python",
   "nbconvert_exporter": "python",
   "pygments_lexer": "ipython3",
   "version": "3.11.5"
  }
 },
 "nbformat": 4,
 "nbformat_minor": 5
}
