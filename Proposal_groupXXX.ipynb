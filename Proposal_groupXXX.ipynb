{
 "cells": [
  {
   "cell_type": "markdown",
   "metadata": {},
   "source": [
    "# COGS 118B - Project Proposal"
   ]
  },
  {
   "cell_type": "markdown",
   "metadata": {},
   "source": [
    "# Project Description\n",
    "\n",
    "You will design and execute a machine learning project. There are a few constraints on the nature of the allowed project. \n",
    "- The problem addressed will not be a \"toy problem\" or \"common training students problem\" like mtcars, iris, palmer penguins etc.\n",
    "- The dataset will have >1k observations and >5 variables. I'd prefer more like >10k observations and >10 variables. A general rule is that if you have >100x more observations than variables, your solution will likely generalize a lot better. The goal of training an unsupervised machine learning model is to learn the underlying pattern in a dataset in order to generalize well to unseen data, so choosing a large dataset is very important.\n",
    "\n",
    "- The project must include some elements of unsupervised learning, but you are welcome to include some supervised or other learning approaches as well.\n",
    "- The project will include a model selection and/or feature selection component where you will be looking for the best setup to maximize the performance of your ML system.\n",
    "- You will evaluate the performance of your ML system using more than one appropriate metric\n",
    "- You will be writing a report describing and discussing these accomplishments\n",
    "\n",
    "\n",
    "Feel free to delete this description section when you hand in your proposal."
   ]
  },
  {
   "cell_type": "markdown",
   "metadata": {},
   "source": [
    "# Names\n",
    "\n",
    "\n",
    "- Nikita Cardozo\n",
    "- Divinity Gines\n",
    "- Mia Le\n",
<<<<<<< Updated upstream
    "- Boden Haber\n",
    ""
=======
    "- Boden\n"
>>>>>>> Stashed changes
   ]
  },
  {
   "cell_type": "markdown",
   "metadata": {},
   "source": [
    "# Abstract  \n",
    "The goal for this project is to be able to predict who the next super bowl winner is based on their stats.\n",
    "The first dataset is the NFL team stats from 1998-2019. These are the logged stats of each team in the NFL per season. It includes the number of wins, losses, yards, and more. The second dataset is the super bowl teams. This includes the winner, loser, points, and location.  \n",
    "We will be using the team stats and the winners of the super bowls to create a prediction model in order to predict who winner of the superbowl is based off their season stats. This means that we would need to break our dataset into a training set, validation set, and test set.\n",
    "Performance/success would be measured based on if it is accurately able to predict the superbowl winners of previous years."
   ]
  },
  {
   "cell_type": "markdown",
   "metadata": {},
   "source": [
    "# Background\n",
    "\n",
    "<!-- Fill in the background and discuss the kind of prior work that has gone on in this research area here. **Use inline citation** to specify which references support which statements.  You can do that through HTML footnotes (demonstrated here). I used to reccommend Markdown footnotes (google is your friend) because they are simpler but recently I have had some problems with them working for me whereas HTML ones always work so far. So use the method that works for you, but do use inline citations.\n",
    "\n",
    "Here is an example of inline citation. After government genocide in the 20th century, real birds were replaced with surveillance drones designed to look just like birds<a name=\"lorenz\"></a>[<sup>[1]</sup>](#lorenznote). Use a minimum of 2 or 3 citations, but we prefer more <a name=\"admonish\"></a>[<sup>[2]</sup>](#admonishnote). You need enough citations to fully explain and back up important facts. \n",
    "\n",
    "Remember you are trying to explain why someone would want to answer your question or why your hypothesis is in the form that you've stated.    -->\n",
    "\n",
    "## NEED TO ADD MORE\n",
    "\n",
    "With all of the different ways to predict a super bowl winner out on the internet, whether that be through puppies prediciting the winner or conspiracies such as whoever is the bottom color of the super bowl logo, we wanted to see if there was a way to use machine learning to accurately predict who the winner of the super bowl is, and in turn the score of the super bowl game. There are a variety of different machine learning algorithms that can be used to accurately predict sports. We found that there has been some research on using machine learning to predict sports outcomes. We start to look at the different machine learning algorithms and which would best be used for sports. There has been better accuracy  with neural networks in regards to sports predictions and these are not dependent on the number of seasons that are included in the data <a name =\"horvat\"></a>[<sup>[1]</sup>](#horvatnote). Each sport also has a specific algorithm that works best for the sport, where football was best predicted using CART or ANN trained with BP <a name=\"bunker\"></a>[<sup>[2]</sup>](#bunkernote). This led to seeing that for football,  classification models predict game outcomes better than regression models <a name=\"dursun\"></a>[<sup>[3]</sup>](#dursunnote). A lot of the research done on sports predictions focus on the winner of the game. We wanted to go more indepth and see if we can find a way to more accurately predict the winner by also predicting the score of the game and go beyond that to find if we can predict who ends up at the super bowl based off their stats."
   ]
  },
  {
   "cell_type": "markdown",
   "metadata": {},
   "source": [
    "# Problem Statement\n",
    "Our problem is figuring out who will win the next Superbowl. \n", 
    "We are trying to develop a model to take in historical NFL data, including team and player performance metrics, injuries, trades and other factors (weather conditions, home advantage). \n",
    "We will accurately estimate the winning probabilities for each team. \n",
    "By using historical data and ML tecniques for predictive analysis, we will be able to predict a winner combined with various influencing factors. \n",
    "The problem will also utilize a vast array of datasets to predict the winner."
   ]
  },
  {
   "cell_type": "markdown",
   "metadata": {},
   "source": [
    "# Data\n",
    "\n",
    "You should have a strong idea of what dataset(s) will be used to accomplish this project. \n",
    "\n",
    "If you know what (some) of the data you will use, please give the following information for each dataset:\n",
    "- link/reference to obtain it\n",
    "- description of the size of the dataset (# of variables, # of observations)\n",
    "- what an observation consists of\n",
    "- what some critical variables are, how they are represented\n",
    "- any special handling, transformations, cleaning, etc will be needed\n",
    "\n",
    "If you don't yet know what your dataset(s) will be, you should describe what you desire in terms of the above bullets \n",
    "\n", 
    "Some data we will use: Superbowl History of past wins, How each team is doing in the regular season information about players on each team (their stats), points scored during the season, how many touchdowns scored. \n",
    "Dataset1: https://www.kaggle.com/datasets/ttalbitt/american-football-team-stats-1998-2019 \n", 
    "Dataset2: https://www.kaggle.com/datasets/timoboz/superbowl-history-1967-2020. "
   ]
  },
  {
   "cell_type": "markdown",
   "metadata": {},
   "source": [
    "# Proposed Solution\n",
    "\n",
    "Our goal within this project is to aggregate all of the data from the past superbowl winners as well as current statistics to help predict who the next Super Bowl winner will be. We plan on using dimensionality reduction to help eliminate less important features and filter out any of the noise in the data. By reducing the dimensionality it will also help us when we use clustering algorithms by making the computation more efficient for us. Once we have done dimensionality reduction we plan on clustering the data by grouping teams based on similarities in a variety of performance metrics as well as characteristics. We are hoping to identify certain patterns that could indicate potential for Super Bowl success. Some dimensions that the data may be clustered by is offensive and defensive strategies, key player statistics, past playoff performance, and more.After doing our clustering we want to look at the identifying characteristics and performance metrics of each cluster to see how the clusters differentiate themselves. We are going to be looking at the key features that Super Bowl winners have within specific clusters. Then we will do  testing that  will use internal validation such as a silhouette score to assess the quality of the clusters formed, allowing us to see how similar a data point is in their cluster. We can then use those insights that we have gained from the clustering to develop predictive models to see the likelihood of which team will win the Super Bowl.  \n",
    "\n"  
   ]
  },
  {
   "cell_type": "markdown",
   "metadata": {},
   "source": [
    "# Evaluation Metrics\n",
    "\n",
    "Propose at least one evaluation metric that can be used to quantify the performance of both the benchmark model and the solution model. The evaluation metric(s) you propose should be appropriate given the context of the data, the problem statement, and the intended solution. Describe how the evaluation metric(s) are derived and provide an example of their mathematical representations (if applicable). Complex evaluation metrics should be clearly defined and quantifiable (can be expressed in mathematical or logical terms)."
   ]
  },
  {
   "cell_type": "markdown",
   "metadata": {},
   "source": [
    "# Ethics & Privacy"
   ]
  },
  {
   "cell_type": "markdown",
   "metadata": {},
   "source": [
    "Although predicting the Super Bowl winner may seem straightforward it can have unintended consequences when it comes to delving deeper into data privacy and fairness. When it comes to data privacy we have to make sure that the collection and analysis of the player as well as the team statistics does not involve any personal data, without the proper consent this could infringe on privacy rights. We also have to make sure that the machine learning models that we use do not perpetuate any biases present in current data such as undervaluing certain players who may be less popular or have less coverage in the media. If they have less coverage this could affect predictions and mess with the machine learning algorithms. To ensure that we are implementing a fair model we must add in techniques that identify and mitigate biases in the data and model predictions. To do this we can audit the outcomes of the model to ensure fairness within the groups. An ethical concern that we may have is that if more people continue to use predictive models in sports it could lead to social and economic consequences such as player market values, team strategies, and overall enjoyment for fans. To help with this issue we must be transparent with why we are using predictive modeling which is to help with the analytics in sports not to destroy the wonders of the game. By addressing these issues it can help us be more open with our audience and address as well as solve some of our concerns.\n",
    "\n"
   ]
  },
  {
   "cell_type": "markdown",
   "metadata": {},
   "source": [
    "# Team Expectations "
   ]
  },
  {
   "cell_type": "markdown",
   "metadata": {},
   "source": [
    "Respond to messages in timely manner, especially when something is due that day \n",
    "\n",
    "Everyone say their reasoning calmly when disagreements happen and then team will take a vote \n",
    "\n",
    "Voice concerns or thoughts if something is bothering team member \n",
    "\n",
    "Make sure everyone is contributing equally to project. "
   ]
  },
  {
   "cell_type": "markdown",
   "metadata": {},
   "source": [
    "# Project Timeline Proposal"
   ]
  },
  {
   "cell_type": "markdown",
   "metadata": {},
   "source": [
    "Replace this with something meaningful that is appropriate for your needs. It doesn't have to be something that fits this format.  It doesn't have to be set in stone... \"no battle plan survives contact with the enemy\". But you need a battle plan nonetheless, and you need to keep it updated so you understand what you are trying to accomplish, who's responsible for what, and what the expected due dates are for each item.\n",
    "\n",
    "| Meeting Date  | Meeting Time| Completed Before Meeting  | Discuss at Meeting |\n",
    "|---|---|---|---|\n",
    "| 2/16  |  2 PM |  Brainstorm topics/questions (all)  | Determine best form of communication; Discuss and decide on final project topic; discuss hypothesis; begin background research | \n",
    "| 2/20  |  5 PM |  Do background research on topic  | Discuss ideal dataset(s) and background; draft project proposal | \n",
    "| 2/26  | 10 AM  | Edit, finalize, and submit proposal; Search for datasets (Beckenbaur)  | Discuss possible analytical approaches; Assign group members to lead each specific part   |\n",
    "| 3/2  | 6 PM  | Import data| Review/Edit data; Discuss Analysis Plan   |\n",
    "| 3/7  | 2 PM  | Finalize data Begin programming for project | Discuss/edit project code; Complete project |\n",
    "| 3/13  | 12 PM  | Complete analysis; Draft results/conclusion/discussion | Discuss/edit full project |\n",
    "| 3/19  | Before 11:59 PM  | NA | Turn in Final Project  |"
   ]
  },
  {
   "cell_type": "markdown",
   "metadata": {},
   "source": [
    "# Footnotes\n",
    "<!-- <a name=\"lorenznote\"></a>1.[^](#lorenz): Lorenz, T. (9 Dec 2021) Birds Aren’t Real, or Are They? Inside a Gen Z Conspiracy Theory. *The New York Times*. https://www.nytimes.com/2021/12/09/technology/birds-arent-real-gen-z-misinformation.html<br> \n",
    "<a name=\"admonishnote\"></a>2.[^](#admonish): Also refs should be important to the background, not some randomly chosen vaguely related stuff. Include a web link if possible in refs as above.<br>\n",
    "<a name=\"sotanote\"></a>3.[^](#sota): Perhaps the current state of the art solution such as you see on [Papers with code](https://paperswithcode.com/sota). Or maybe not SOTA, but rather a standard textbook/Kaggle solution to this kind of problem -->\n",
    "\n",
    "<a name = \"horvatnote\"></a>1.[^](#horvat): Horvat T, Job J. The use of machine learning in sport outcome prediction: A review. WIREs Data Mining Knowl Discov. 2020; 10:e1380. https://doi.org/10.1002/widm.1380  \n",
    "<a name = \"bunkernote\"></a>2.[^](#bunker): Bunker, R., & Susnjak, T. (2022, April). The Application of Machine Learning Techniques forPredicting Match Results in Team Sport: A Review. View of the application of machine learning techniques for predicting match results in Team Sport: A Review. Journal of Artificial Intelligence Research, Volume 73, Pages 1285-1322 https://www.jair.org/index.php/jair/article/view/13509/26786   \n",
    "<a name=\"dursunnote\"></a>3.[^](#dursun): Dursun Delen, Douglas Cogdell, Nihat Kasap,A comparative analysis of data mining methods in predicting NCAA bowl outcomes,International Journal of Forecasting,Volume 28, Issue 2,2012,Pages 543-552,ISSN 0169-2070,https://doi.org/10.1016/j.ijforecast.2011.05.002.(https://www.sciencedirect.com/science/article/pii/S0169207011000914)  \n",
    "\n"
   ]
  },
  {
   "cell_type": "markdown",
   "metadata": {},
   "source": []
  }
 ],
 "metadata": {
  "kernelspec": {
   "display_name": "Python 3 (ipykernel)",
   "language": "python",
   "name": "python3"
  },
  "language_info": {
   "codemirror_mode": {
    "name": "ipython",
    "version": 3
   },
   "file_extension": ".py",
   "mimetype": "text/x-python",
   "name": "python",
   "nbconvert_exporter": "python",
   "pygments_lexer": "ipython3",
   "version": "3.10.0"
  }
 },
 "nbformat": 4,
 "nbformat_minor": 2
}
