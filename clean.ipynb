import pandas as pd

df_teamstats = pd.read_csv("data/AmericanFootball98.csv")
df_sb = pd.read_csv("data/superbowl.csv")

df_teamstats = df_teamstats[['team_code', 'wins', 'losses', 'PF', 'yards', 'plays', 
                            '1st downs', 'completions', 'pass attempts', 'pass yards', 
                            'rush yards', 'score percentage', 'opp PF', 'opp yards', 'opp plays']]


df_teamstats['team_name'] = df_teamstats['team_code'].str[:3]
df_teamstats['year'] = df_teamstats['team_code'].str[-4:]
df_teamstats = df_teamstats.drop(columns=['team_code'])

df_teamstats['year'] = pd.to_numeric(df_teamstats['year'])

# drop all rows from 2004 and older
df_teamstats = df_teamstats[df_teamstats['year'] > 2004]

cols = ['team_name', 'year'] + [col for col in df_teamstats.columns if col not in ['team_name', 'year']]
df_teamstats = df_teamstats[cols]


# mapping of team abbreviations to full names
team_mapping = {
    'nwe': 'New England Patriots',
    'buf': 'Buffalo Bills',
    'nyj': 'New York Jets',
    'mia': 'Miami Dolphins',
    'rav': 'Baltimore Ravens',
    'pit': 'Pittsburgh Steelers',
    'cle': 'Cleveland Browns',
    'cin': 'Cincinnati Bengals',
    'htx': 'Houston Texans',
    'oti': 'Tennessee Titans',
    'clt': 'Indianapolis Colts',
    'jax': 'Jacksonville Jaguars',
    'kan': 'Kansas City Chiefs',
    'den': 'Denver Broncos',
    'rai': 'Las Vegas Raiders',
    'sdg': 'Los Angeles Chargers',
    'phi': 'Philadelphia Eagles',
    'dal': 'Dallas Cowboys',
    'nyg': 'New York Giants',
    'was': 'Washington Commanders',
    'gnb': 'Green Bay Packers',
    'min': 'Minnesota Vikings',
    'chi': 'Chicago Bears',
    'det': 'Detroit Lions',
    'nor': 'New Orleans Saints',
    'atl': 'Atlanta Falcons',
    'tam': 'Tampa Bay Buccaneers',
    'car': 'Carolina Panthers',
    'sfo': 'San Francisco 49ers',
    'sea': 'Seattle Seahawks',
    'ram': 'Los Angeles Rams',
    'crd': 'Arizona Cardinals'
}


df_teamstats['team_name'] = df_teamstats['team_name'].map(team_mapping)

df_sb = df_sb[['Date', 'Winner']]
df_sb['Date'] = df_sb['Date'].str[-4:]

df_sb['Date'] = pd.to_numeric(df_sb['Date'])

# drop all rows from 2004 and older
df_sb = df_sb[df_sb['Date'] > 2004]


df_sb.rename(columns={'Date': 'year'}, inplace=True)

df_merged = pd.merge(df_teamstats, df_sb, on='year', how='left')
df_merged.rename(columns={'Winner': 'winner'}, inplace=True)


df_merged
